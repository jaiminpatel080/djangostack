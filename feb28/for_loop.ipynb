{
 "cells": [
  {
   "cell_type": "code",
   "execution_count": 19,
   "metadata": {},
   "outputs": [],
   "source": [
    "def PrimeChecker(num):\n",
    "    flag = True\n",
    "    if num == 1 or num == 0:\n",
    "        return f\"composite number {num}\"\n",
    "    for i in range (2, num):\n",
    "        if num % i == 0:\n",
    "            flag = False\n",
    "            break\n",
    "    if flag:\n",
    "        return f\"prime {num}\"\n",
    "    "
   ]
  },
  {
   "cell_type": "code",
   "execution_count": 22,
   "metadata": {},
   "outputs": [
    {
     "name": "stdout",
     "output_type": "stream",
     "text": [
      "composite number 0\n",
      "composite number 1\n",
      "prime 2\n",
      "prime 3\n",
      "prime 5\n",
      "prime 7\n",
      "prime 11\n",
      "prime 13\n",
      "prime 17\n",
      "prime 19\n",
      "prime 23\n",
      "prime 29\n",
      "prime 31\n",
      "prime 37\n",
      "prime 41\n",
      "prime 43\n",
      "prime 47\n",
      "prime 53\n",
      "prime 59\n",
      "prime 61\n",
      "prime 67\n",
      "prime 71\n",
      "prime 73\n",
      "prime 79\n",
      "prime 83\n",
      "prime 89\n",
      "prime 97\n"
     ]
    }
   ],
   "source": [
    "for i in range(100):\n",
    "    if PrimeChecker(i) == None:\n",
    "        pass\n",
    "    else:\n",
    "        print(PrimeChecker(i))"
   ]
  },
  {
   "cell_type": "code",
   "execution_count": 24,
   "metadata": {},
   "outputs": [
    {
     "name": "stdout",
     "output_type": "stream",
     "text": [
      "Palindrome Number\n"
     ]
    }
   ],
   "source": [
    "number = input(\"Enter your number\")\n",
    "reverse = number[::-1]\n",
    "if number == reverse:\n",
    "    print(\"Palindrome Number\")\n",
    "else:\n",
    "    print(\"Not Palindrome Number\")"
   ]
  },
  {
   "cell_type": "code",
   "execution_count": 29,
   "metadata": {},
   "outputs": [
    {
     "name": "stdout",
     "output_type": "stream",
     "text": [
      "15\n",
      "30\n",
      "45\n",
      "60\n",
      "75\n",
      "90\n"
     ]
    }
   ],
   "source": [
    "start = int(input(\"Enter start number\"))\n",
    "end = int(input(\"Enter end number\"))\n",
    "\n",
    "for i in range(start,end):\n",
    "    if i % 3 == 0 and i % 5 == 0:\n",
    "        print(i)"
   ]
  },
  {
   "cell_type": "code",
   "execution_count": 33,
   "metadata": {},
   "outputs": [
    {
     "name": "stdout",
     "output_type": "stream",
     "text": [
      "120\n"
     ]
    }
   ],
   "source": [
    "numb = int(input(\"Enter your number\"))\n",
    "fact = 1\n",
    "for i in range(1,numb+1):\n",
    "    fact = fact * i\n",
    "print(fact)\n",
    "    \n",
    "    "
   ]
  },
  {
   "cell_type": "code",
   "execution_count": null,
   "metadata": {},
   "outputs": [],
   "source": []
  },
  {
   "cell_type": "code",
   "execution_count": 41,
   "metadata": {},
   "outputs": [
    {
     "name": "stdout",
     "output_type": "stream",
     "text": [
      "0\n",
      "1\n",
      "22\n",
      "43\n",
      "65\n",
      "108\n",
      "173\n"
     ]
    }
   ],
   "source": [
    "a=0\n",
    "b=1\n",
    "count=5\n",
    "print(a)\n",
    "print(b)\n",
    "for i in range(count):\n",
    "    a = b\n",
    "    b = c\n",
    "    c = a+b\n",
    "    print(c)"
   ]
  },
  {
   "cell_type": "code",
   "execution_count": 74,
   "metadata": {},
   "outputs": [
    {
     "name": "stdout",
     "output_type": "stream",
     "text": [
      "\n",
      "Not Armstrong Number.\n"
     ]
    }
   ],
   "source": [
    "num = int(input(\"Enter your number:\"))\n",
    "n = len(str(num))\n",
    "string = str(num)\n",
    "\n",
    "print()\n",
    "sum = int(pow(int(string[n-n]),n,None) + pow(int(string[n-(n-1)]),n,None) + pow(int(string[n-(n-2)]),n,None))\n",
    "if num == sum:\n",
    "    print(\"Armstrong Number.\")\n",
    "else:\n",
    "    print(\"Not Armstrong Number.\")"
   ]
  }
 ],
 "metadata": {
  "kernelspec": {
   "display_name": "Python 3",
   "language": "python",
   "name": "python3"
  },
  "language_info": {
   "codemirror_mode": {
    "name": "ipython",
    "version": 3
   },
   "file_extension": ".py",
   "mimetype": "text/x-python",
   "name": "python",
   "nbconvert_exporter": "python",
   "pygments_lexer": "ipython3",
   "version": "3.9.13"
  }
 },
 "nbformat": 4,
 "nbformat_minor": 2
}
