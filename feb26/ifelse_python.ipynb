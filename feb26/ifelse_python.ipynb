{
 "cells": [
  {
   "cell_type": "code",
   "execution_count": 1,
   "metadata": {},
   "outputs": [
    {
     "name": "stdout",
     "output_type": "stream",
     "text": [
      "It is Negative Number.\n"
     ]
    }
   ],
   "source": [
    "i = int(input(\"Enter your Number:\"))\n",
    "if i == 0:\n",
    "    print(\"It is Zero.\")\n",
    "elif i < 0:\n",
    "    print(\"It is Negative Number.\")\n",
    "else:\n",
    "    print(\"It is Negative Number.\")"
   ]
  },
  {
   "cell_type": "code",
   "execution_count": 4,
   "metadata": {},
   "outputs": [
    {
     "name": "stdout",
     "output_type": "stream",
     "text": [
      "It is divisible by 5 and 11.\n"
     ]
    }
   ],
   "source": [
    "i = int(input(\"Enter your Number:\"))\n",
    "if (i % 5 and i % 11) == 0:\n",
    "     print(\"It is divisible by 5 and 11.\")\n",
    "else:\n",
    "    print(\"It is not divisible by 5 and 11.\")"
   ]
  },
  {
   "cell_type": "code",
   "execution_count": 8,
   "metadata": {},
   "outputs": [
    {
     "name": "stdout",
     "output_type": "stream",
     "text": [
      "It is a leap year.\n"
     ]
    }
   ],
   "source": [
    "i = int(input(\"Enter any Year:\"))\n",
    "if i % 400 == 0:\n",
    "    print(\"It is a leap year.\")\n",
    "elif i % 100 == 0:\n",
    "    print(\"It is not a leap year.\")\n",
    "elif i % 4 == 0:\n",
    "    print(\"It is a leap year.\")\n",
    "else:\n",
    "    print(\"It is not a leap year.\")"
   ]
  },
  {
   "cell_type": "code",
   "execution_count": 11,
   "metadata": {},
   "outputs": [
    {
     "name": "stdout",
     "output_type": "stream",
     "text": [
      "It is not a alphabet\n"
     ]
    }
   ],
   "source": [
    "i = input(\"Enter any character:\")\n",
    "if i >= 'a' and i <= 'z':\n",
    "    print(\"It is a alphabet\")\n",
    "else:\n",
    "    print(\"It is not a alphabet\")\n"
   ]
  },
  {
   "cell_type": "code",
   "execution_count": 13,
   "metadata": {},
   "outputs": [
    {
     "name": "stdout",
     "output_type": "stream",
     "text": [
      "It is not a vowel\n"
     ]
    }
   ],
   "source": [
    "i = input(\"Enter any alphabet:\")\n",
    "if i == ('a','e','i','o','u'):\n",
    "    print(\"It is a vowel\")\n",
    "else:\n",
    "    print(\"It is not a vowel\")"
   ]
  },
  {
   "cell_type": "code",
   "execution_count": 16,
   "metadata": {},
   "outputs": [
    {
     "name": "stdout",
     "output_type": "stream",
     "text": [
      "It is a special character.\n"
     ]
    }
   ],
   "source": [
    "i = input(\"Enter any character:\")\n",
    "if i >= 'a' and i <= 'z':\n",
    "    print(\"It is a alphabet\")\n",
    "elif i >= '0' and i<= '9':\n",
    "    print(\"It is a number\")\n",
    "else:\n",
    "    print(\"It is a special character.\")"
   ]
  },
  {
   "cell_type": "code",
   "execution_count": 17,
   "metadata": {},
   "outputs": [
    {
     "name": "stdout",
     "output_type": "stream",
     "text": [
      "It is UPPERCASE.\n"
     ]
    }
   ],
   "source": [
    "i = input(\"Enter any alphabet:\")\n",
    "if i >= 'A' and i <= 'Z':\n",
    "    print(\"It is UPPERCASE.\")\n",
    "else:\n",
    "    print(\"It is lowercase.\")"
   ]
  },
  {
   "cell_type": "code",
   "execution_count": 19,
   "metadata": {},
   "outputs": [
    {
     "name": "stdout",
     "output_type": "stream",
     "text": [
      "It is a valid triangle\n"
     ]
    }
   ],
   "source": [
    "(a, b, c) = (int(input(\"Enter Angle 1:\")), int(input(\"Enter Angle 2:\")), int(input(\"Enter Angle 3:\")))\n",
    "if (a + b + c) == 180:\n",
    "    print(\"It is a valid triangle\")\n",
    "else:\n",
    "    print(\"It is an invalid triangle\")\n"
   ]
  },
  {
   "cell_type": "code",
   "execution_count": 22,
   "metadata": {},
   "outputs": [
    {
     "name": "stdout",
     "output_type": "stream",
     "text": [
      "It is a valid triangle\n"
     ]
    }
   ],
   "source": [
    "(a, b, c) = (int(input(\"Enter Side 1:\")), int(input(\"Enter Side 2:\")), int(input(\"Enter Side 3:\")))\n",
    "if (a+b)>c and (b+c)>a and (a+c)>b:\n",
    "    print(\"It is a valid triangle\")\n",
    "else:\n",
    "    print(\"It is an invalid triangle\")"
   ]
  },
  {
   "cell_type": "code",
   "execution_count": null,
   "metadata": {},
   "outputs": [],
   "source": []
  }
 ],
 "metadata": {
  "kernelspec": {
   "display_name": "Python 3",
   "language": "python",
   "name": "python3"
  },
  "language_info": {
   "codemirror_mode": {
    "name": "ipython",
    "version": 3
   },
   "file_extension": ".py",
   "mimetype": "text/x-python",
   "name": "python",
   "nbconvert_exporter": "python",
   "pygments_lexer": "ipython3",
   "version": "3.9.13"
  }
 },
 "nbformat": 4,
 "nbformat_minor": 2
}
